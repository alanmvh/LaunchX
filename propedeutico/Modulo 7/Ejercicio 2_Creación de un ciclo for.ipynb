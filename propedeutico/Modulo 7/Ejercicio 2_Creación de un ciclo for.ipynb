{
 "cells": [
  {
   "cell_type": "markdown",
   "metadata": {},
   "source": [
    "# Ejercicio 2: Creación de un ciclo \"for\"\n"
   ]
  },
  {
   "cell_type": "markdown",
   "metadata": {},
   "source": [
    "Mostrar la lista de los planetas\n",
    "La variable planets almacena los nombres de planeta que ha introducido un usuario. Ahora usarás un ciclo para mostrar esas entradas.\n",
    "\n",
    "Crea un ciclo for para iterar sobre la lista planets. Puedes usar como nombre de la variable planet para cada planeta. Dentro del ciclo for, recuerda utilizar print para mostrar cada planet."
   ]
  },
  {
   "cell_type": "code",
   "execution_count": 1,
   "metadata": {},
   "outputs": [],
   "source": [
    "\n",
    "# Code of exercise 1\n",
    "\n",
    "new_planet = \"\"\n",
    "planets = []\n",
    "\n",
    "while(new_planet != \"done\"):\n",
    "    new_planet = input(\"Go ahead... Write a planet name: \")\n",
    "    planets.append(new_planet)\n"
   ]
  },
  {
   "cell_type": "code",
   "execution_count": 2,
   "metadata": {},
   "outputs": [
    {
     "name": "stdout",
     "output_type": "stream",
     "text": [
      "Planet No.: 0 -> asd\n",
      "Planet No.: 1 -> 123\n",
      "Planet No.: 0 -> asd\n",
      "Planet No.: 3 -> qwe\n",
      "Planet No.: 4 -> done\n"
     ]
    }
   ],
   "source": [
    "# Ciclo for\n",
    "# Prints the number of the planet and the name\n",
    "for planet in planets:\n",
    "    print(f\"Planet No.: {planets.index(planet)+1} -> {planet}\")"
   ]
  }
 ],
 "metadata": {
  "interpreter": {
   "hash": "baf0f7fc81cffdc6c716d384a2aeb705f825016f14ec2fd39b57b36aa290fe06"
  },
  "kernelspec": {
   "display_name": "Python 3.10.2 64-bit",
   "language": "python",
   "name": "python3"
  },
  "language_info": {
   "codemirror_mode": {
    "name": "ipython",
    "version": 3
   },
   "file_extension": ".py",
   "mimetype": "text/x-python",
   "name": "python",
   "nbconvert_exporter": "python",
   "pygments_lexer": "ipython3",
   "version": "3.10.2"
  },
  "orig_nbformat": 4
 },
 "nbformat": 4,
 "nbformat_minor": 2
}
