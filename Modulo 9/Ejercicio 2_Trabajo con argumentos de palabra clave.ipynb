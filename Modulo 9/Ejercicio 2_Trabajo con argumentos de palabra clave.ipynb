{
 "cells": [
  {
   "cell_type": "markdown",
   "metadata": {},
   "source": [
    "# Ejercicio 2: Trabajo con argumentos de palabra clave\n"
   ]
  },
  {
   "cell_type": "markdown",
   "metadata": {},
   "source": [
    "Ejercicio : Trabajar con argumentos de palabras clave en funciones\n",
    "En este ejercicio, construirás un informe de cohete que requiere varias piezas de información, como el tiempo hasta el destino, el combustible a la izquierda y el nombre del destino. Comienza por crear una función que creará un informe preciso de la misión:"
   ]
  },
  {
   "cell_type": "code",
   "execution_count": 3,
   "metadata": {},
   "outputs": [],
   "source": [
    "\n",
    "def status(launch_time, flight_time, destination, external_tank, internal_tank):\n",
    "    return f\"\"\"\"\n",
    "    Launch time: {launch_time}\n",
    "    Flight time: {flight_time}\n",
    "    Destination: {destination}\n",
    "    External tank: {external_tank}\n",
    "    Internal tank: {internal_tank}\n",
    "    \"\"\""
   ]
  },
  {
   "cell_type": "markdown",
   "metadata": {},
   "source": [
    "La función es problemática porque no se puede adaptar para minutos adicionales o tanques adicionales de combustible. Hazlo más flexible permitiendo cualquier número de pasos basados en el tiempo y cualquier número de tanques. En lugar de usar *args y **kwargs, aprovecha el hecho de que puedes usar cualquier nombre que desees. Asegurate que la función sea más legible mediante el uso de nombres de variables que están asociados con las entradas, como *minutes y **fuel_reservoirs:"
   ]
  },
  {
   "cell_type": "code",
   "execution_count": 2,
   "metadata": {},
   "outputs": [],
   "source": [
    "def status(*minutes, destination, **fuel_reservoirs):\n",
    "    return f\"\"\"\"\n",
    "    Destination: {destination}\n",
    "    Flight time: {sum(minutes)}\n",
    "    Fuel: {sum(fuel_reservoirs.values())}\n",
    "    \"\"\""
   ]
  },
  {
   "cell_type": "markdown",
   "metadata": {},
   "source": [
    "Debido a que el combustible que queda en los tanques es específico de cada tanque, actualiza la función para usar el nombre de cada tanque en el informe:"
   ]
  },
  {
   "cell_type": "code",
   "execution_count": 8,
   "metadata": {},
   "outputs": [
    {
     "name": "stdout",
     "output_type": "stream",
     "text": [
      "\"\n",
      "    Destination: Moon\n",
      "    Flight time: 74\n",
      "    Fuel: 500000\n",
      "    Reservoir: ['main tank: 300000 left', 'external tank: 200000 left']\n",
      "    \n"
     ]
    }
   ],
   "source": [
    "def status_update(destination,*minutes,  **fuel_reservoirs):\n",
    "\n",
    "    reservoir = []\n",
    "    for k,v in fuel_reservoirs.items():\n",
    "        reservoir.append(f\"{k} tank: {v} left\")\n",
    "\n",
    "    return f\"\"\"\"\n",
    "    Destination: {destination}\n",
    "    Flight time: {sum(minutes)}\n",
    "    Fuel: {sum(fuel_reservoirs.values())}\n",
    "    Reservoir: {reservoir}\n",
    "    \"\"\"\n",
    "\n",
    "print(status_update(\"Moon\", 8, 11, 55, main=300000, external=200000))\n"
   ]
  }
 ],
 "metadata": {
  "interpreter": {
   "hash": "baf0f7fc81cffdc6c716d384a2aeb705f825016f14ec2fd39b57b36aa290fe06"
  },
  "kernelspec": {
   "display_name": "Python 3.10.2 64-bit",
   "language": "python",
   "name": "python3"
  },
  "language_info": {
   "codemirror_mode": {
    "name": "ipython",
    "version": 3
   },
   "file_extension": ".py",
   "mimetype": "text/x-python",
   "name": "python",
   "nbconvert_exporter": "python",
   "pygments_lexer": "ipython3",
   "version": "3.10.2"
  },
  "orig_nbformat": 4
 },
 "nbformat": 4,
 "nbformat_minor": 2
}
